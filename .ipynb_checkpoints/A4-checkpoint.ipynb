{
 "cells": [
  {
   "cell_type": "markdown",
   "id": "8427e4c7-37c3-42a8-a6e6-c4fc841ddf24",
   "metadata": {},
   "source": [
    "# A4: Hate Crime Dataset Analysis\n",
    "## Motivation and problem statement: \n",
    "I am planning on doing this analysis because I'm interested in the causations of hate crimes. I identify with numerous minority groups and there has only been one time in my life where I felt I was a potential victim to a hate crime (a little over two years ago). I won't go into the details of the story since the whole situation was confusing, but it ultimately ended with me and my partner (at the time) running away from surprise violence that was incited on us. I didn't have the time to understand why they were inciting the violence or what their intentions were. In turn, I personally feel that it's important to understand the underlying causes for these acts to:\n",
    "1. Protect myself and others in real-life situations where disclosing personal information can violently be used against us\n",
    "2. Raise awareness for these confusing events that happen everyday.\n",
    "I hope to learn about some factors that indicate when a hate crime can take place. Also, along with this dataset, there was a published article on FiveThirtyEight which highlighted how higher rates of hate crimes are tied to income inequality. I hope in my analysis that I'm able to confirm these findings and create other insights that may have been overlooked.\n",
    "\n",
    "## Data selected for analysis: What dataset do you plan to use, and why? \n",
    "Summarize what is represented in the dataset\n",
    "Link to the dataset (it must be publicly available)\n",
    "Specify license and/or terms of use for the data\n",
    "Explain why this dataset is a suitable one for addressing your research goal listed above\n",
    "Highlight any possible ethical considerations to using this dataset\n",
    "\n",
    "This [dataset](https://www.kaggle.com/fivethirtyeight/fivethirtyeight-hate-crimes-dataset?select=hate_crimes.csv) contains data regarding states and their hate crime rate, particularly in the time period between 2015-2016. The licence is CC0: Public Domain, which allows me to copy, modify, distribute and perform work without special permissions. This dataset also contains fields that are relevant to causes of hate crimes, such as the state's median household income, population with a high school degree, population of non-citizens, unemployment, and even percentage of Trump voters in 2016. I think these fields are important when considering why a hate crimes takes place. A limitation of using this dataset is that it comes from the FBI's Uniform Crime Reporting Program, who only publishes data from law enforcement agencies that deem the crimes prosecutable. It doesn't take into account every *incident*, which could skew the data or give insights that aren't complete.\n",
    "\n",
    "## Unknowns and dependencies:\n",
    "One thing that might impact my ability to complete the project at the end of the quarter is the understanding of why these crimes are committed. While the dataset includes some predicting factors, I believe it'd take more research to fully understand it. Also, this dataset only includes data about populations in 2015-2016, and hate crimes that were done 10 days after the 2016 US Presidential election. While I think that this timeframe is still relevant, it doesn't give insight about the arising hate crimes that are happening over the past year such as Asian hate crimes, which is an important topic to analyze today."
   ]
  },
  {
   "cell_type": "code",
   "execution_count": null,
   "id": "b76ea74d-6951-4601-bba1-fa1b78aeb8f0",
   "metadata": {},
   "outputs": [],
   "source": []
  }
 ],
 "metadata": {
  "kernelspec": {
   "display_name": "Python 3",
   "language": "python",
   "name": "python3"
  },
  "language_info": {
   "codemirror_mode": {
    "name": "ipython",
    "version": 3
   },
   "file_extension": ".py",
   "mimetype": "text/x-python",
   "name": "python",
   "nbconvert_exporter": "python",
   "pygments_lexer": "ipython3",
   "version": "3.8.8"
  }
 },
 "nbformat": 4,
 "nbformat_minor": 5
}
