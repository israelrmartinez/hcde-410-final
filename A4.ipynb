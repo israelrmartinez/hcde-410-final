{
 "cells": [
  {
   "cell_type": "markdown",
   "id": "8427e4c7-37c3-42a8-a6e6-c4fc841ddf24",
   "metadata": {},
   "source": [
    "# A4: Hate Crime Dataset Analysis\n",
    "## Motivation and problem statement: \n",
    "I am planning on doing this analysis because I'm interested in the causations of hate crimes. I identify with numerous minority groups and there has only been one time in my life where I felt I was a potential victim to a hate crime (a little over two years ago). I won't go into the details of the story since the whole situation was confusing, but it ultimately ended with me and my partner (at the time) running away from surprise violence that was incited on us. I didn't have the time to understand why they were inciting the violence or what their intentions were. In turn, I personally feel that it's important to understand the underlying causes for these acts to:\n",
    "1. Protect myself and others in real-life situations where disclosing personal information can violently be used against us\n",
    "2. Raise awareness for these confusing events that happen everyday.\n",
    "\n",
    "I hope to learn about some factors that indicate when a hate crime can take place. Also, along with this dataset, there was a published article on FiveThirtyEight which highlighted how higher rates of hate crimes are tied to income inequality. I hope in my analysis that I'm able to confirm these findings and create other insights that may have been overlooked.\n",
    "\n",
    "## Data selected for analysis: What dataset do you plan to use, and why? \n",
    "Summarize what is represented in the dataset\n",
    "Link to the dataset (it must be publicly available)\n",
    "Specify license and/or terms of use for the data\n",
    "Explain why this dataset is a suitable one for addressing your research goal listed above\n",
    "Highlight any possible ethical considerations to using this dataset\n",
    "\n",
    "This [dataset](https://www.kaggle.com/fivethirtyeight/fivethirtyeight-hate-crimes-dataset?select=hate_crimes.csv) contains data regarding states and their hate crime rate, particularly in the time period between 2015-2016. The licence is CC0: Public Domain, which allows me to copy, modify, distribute and perform work without special permissions. This dataset also contains fields that are relevant to causes of hate crimes, such as the state's median household income, population with a high school degree, population of non-citizens, unemployment, and even percentage of Trump voters in 2016. I think these fields are important when considering why a hate crimes takes place. A limitation of using this dataset is that it comes from the FBI's Uniform Crime Reporting Program, who only publishes data from law enforcement agencies that deem the crimes prosecutable. It doesn't take into account every *incident*, which could skew the data or give insights that aren't complete.\n",
    "\n",
    "## Unknowns and dependencies:\n",
    "One thing that might impact my ability to complete the project at the end of the quarter is the understanding of why these crimes are committed. While the dataset includes some predicting factors, I believe it'd take more research to fully understand it. Also, this dataset only includes data about populations in 2015-2016, and hate crimes that were done 10 days after the 2016 US Presidential election. While I think that this timeframe is still relevant, it doesn't give insight about the arising hate crimes that are happening over the past year such as Asian hate crimes, which is an important topic to analyze today.\n",
    "\n",
    "# A5: Final Project Plan\n",
    "## Research questions\n",
    "My research question that I will be exploring is \"how does income impact rates of hate crimes in a state?” My hypothesis is that states with low education rates and low median household income have a higher rate of hate crimes. This is due to income being a big factor in people’s life satisfaction. If a person does not get a good education, they cannot get a good job and make a good income. This can make them feel insecure and therefore lash out at other groups in the form of hate to make them feel better about themselves being in the lower-class.\n",
    "\n",
    "## Background and/or Related Work\n",
    "This [article](https://fivethirtyeight.com/features/higher-rates-of-hate-crimes-are-tied-to-income-inequality/) goes over the findings over the dataset that I will be using. Something that they found true before and after the 2016 US Presidential election was that income inequality is a strong indicator for states having higher rates of hate incidents. In a [report](https://harris.uchicago.edu/files/2019_capstone_project_example_for_hate_crimes.pdf) written by members of the University of Chicago Harris School of Public Policy, they analyze the same dataset and mention that race bias motivations are the leading cause of hate crimes in the nation. And with African American and Hispanics generally being on the lower end of the socioeconomic class, it shows how income inequality plays a role in these crimes.\n",
    "\n",
    "This background information informs my decision to pay closest attention to the income factors of states in the dataset. After reading the findings, I have a sense on what my analysis should confirm. Also, seeing a focus on household income also inspires me to pay more attention to the other fields in the dataset since they are not mentioned as frequently. As I create the data around income, I want to see if there are patterns in states with white residents living in poverty, voters who voted Trump, large non-U.S. citizen population, and citizens with a high school degree. \n",
    "\n",
    "## Methodology\n",
    "The analytical method I intend to use to answer my questions is ordinary least squares. This is because I want to determine the relationship between hate crime incidents and other variables in the dataset. And since the data is from a 10-day period, I will not be using other regression analyses such as duration models and linear modeling. \n",
    "\n",
    "To present my findings, I will be using heatmaps to map out the data in all 50 states. I want to create different maps to represent the different fields presented in the dataset. I hope to make the map interactive by having a number represent the value in the field. For example, in a map that shows median household income, I want to display \"$42,278\" when hovering over the Alabama state.\n",
    "\n",
    "I may also want to do a plot chart to compare two variables in the dataset. For example, on a chart that represents household income and hate crime incidents, there will be 50 points on the chart representing the state and it would show me where the data falls. If I hover over a point, it should tell me what state that is."
   ]
  },
  {
   "cell_type": "code",
   "execution_count": null,
   "id": "b76ea74d-6951-4601-bba1-fa1b78aeb8f0",
   "metadata": {},
   "outputs": [],
   "source": []
  }
 ],
 "metadata": {
  "kernelspec": {
   "display_name": "Python 3",
   "language": "python",
   "name": "python3"
  },
  "language_info": {
   "codemirror_mode": {
    "name": "ipython",
    "version": 3
   },
   "file_extension": ".py",
   "mimetype": "text/x-python",
   "name": "python",
   "nbconvert_exporter": "python",
   "pygments_lexer": "ipython3",
   "version": "3.8.8"
  }
 },
 "nbformat": 4,
 "nbformat_minor": 5
}
