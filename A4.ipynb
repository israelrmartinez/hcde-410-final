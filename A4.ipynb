{
 "cells": [
  {
   "cell_type": "markdown",
   "id": "8427e4c7-37c3-42a8-a6e6-c4fc841ddf24",
   "metadata": {},
   "source": [
    "# Motivation and problem statement: \n",
    "One or more paragraphs of text that answers the questions:\n",
    "Why are you planning to do this analysis? \n",
    "Why is it potentially interesting and useful, from a scientific, practical, and/or human-centered perspective? \n",
    "What do you hope to learn? \n",
    "Note that you only need to describe your overall research goal at this stage; specific hypotheses or research questions aren’t necessary in the project preliminary proposal.\n",
    "\n",
    "# Data selected for analysis: What dataset do you plan to use, and why? \n",
    "Summarize what is represented in the dataset\n",
    "Link to the dataset (it must be publicly available)\n",
    "Specify license and/or terms of use for the data\n",
    "Explain why this dataset is a suitable one for addressing your research goal listed above\n",
    "Highlight any possible ethical considerations to using this dataset\n",
    "\n",
    "# Unknowns and dependencies:\n",
    "Are there any factors outside of your control that might impact your ability to complete this project by the end of the quarter? The purpose of this section is to get you thinking, in a practical sense, about your ability to complete this project within the time allotted."
   ]
  },
  {
   "cell_type": "code",
   "execution_count": null,
   "id": "b76ea74d-6951-4601-bba1-fa1b78aeb8f0",
   "metadata": {},
   "outputs": [],
   "source": []
  }
 ],
 "metadata": {
  "kernelspec": {
   "display_name": "Python 3",
   "language": "python",
   "name": "python3"
  },
  "language_info": {
   "codemirror_mode": {
    "name": "ipython",
    "version": 3
   },
   "file_extension": ".py",
   "mimetype": "text/x-python",
   "name": "python",
   "nbconvert_exporter": "python",
   "pygments_lexer": "ipython3",
   "version": "3.8.8"
  }
 },
 "nbformat": 4,
 "nbformat_minor": 5
}
